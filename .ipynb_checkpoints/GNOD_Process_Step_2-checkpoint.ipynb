{
 "cells": [
  {
   "cell_type": "markdown",
   "id": "24e04dd7",
   "metadata": {},
   "source": [
    "# GNOD Process Step 2\n",
    "\n",
    "Today you are creating a recommender where the user inputs a song title and check if that song is in the list you created.   If it is,  give a different random song and artist from the list.  If it is not on the list, let the user know that you have no recommendation at this time.\n"
   ]
  },
  {
   "cell_type": "code",
   "execution_count": 1,
   "id": "a4777c1c",
   "metadata": {},
   "outputs": [
    {
     "data": {
      "text/html": [
       "<div>\n",
       "<style scoped>\n",
       "    .dataframe tbody tr th:only-of-type {\n",
       "        vertical-align: middle;\n",
       "    }\n",
       "\n",
       "    .dataframe tbody tr th {\n",
       "        vertical-align: top;\n",
       "    }\n",
       "\n",
       "    .dataframe thead th {\n",
       "        text-align: right;\n",
       "    }\n",
       "</style>\n",
       "<table border=\"1\" class=\"dataframe\">\n",
       "  <thead>\n",
       "    <tr style=\"text-align: right;\">\n",
       "      <th></th>\n",
       "      <th>song_title</th>\n",
       "      <th>artist</th>\n",
       "    </tr>\n",
       "  </thead>\n",
       "  <tbody>\n",
       "    <tr>\n",
       "      <th>0</th>\n",
       "      <td>Lovin On Me</td>\n",
       "      <td>Jack Harlow</td>\n",
       "    </tr>\n",
       "    <tr>\n",
       "      <th>1</th>\n",
       "      <td>Lil Boo Thang</td>\n",
       "      <td>Paul Russell</td>\n",
       "    </tr>\n",
       "    <tr>\n",
       "      <th>2</th>\n",
       "      <td>I Remember Everything (feat. Kacey Musgraves)</td>\n",
       "      <td>Zach Bryan</td>\n",
       "    </tr>\n",
       "    <tr>\n",
       "      <th>3</th>\n",
       "      <td>White Horse</td>\n",
       "      <td>Chris Stapleton</td>\n",
       "    </tr>\n",
       "    <tr>\n",
       "      <th>4</th>\n",
       "      <td>Need A Favor</td>\n",
       "      <td>Jelly Roll</td>\n",
       "    </tr>\n",
       "    <tr>\n",
       "      <th>...</th>\n",
       "      <td>...</td>\n",
       "      <td>...</td>\n",
       "    </tr>\n",
       "    <tr>\n",
       "      <th>95</th>\n",
       "      <td>Last Christmas (Single Version)</td>\n",
       "      <td>Wham!</td>\n",
       "    </tr>\n",
       "    <tr>\n",
       "      <th>96</th>\n",
       "      <td>TRUCK BED</td>\n",
       "      <td>HARDY</td>\n",
       "    </tr>\n",
       "    <tr>\n",
       "      <th>97</th>\n",
       "      <td>Daylight</td>\n",
       "      <td>David Kushner</td>\n",
       "    </tr>\n",
       "    <tr>\n",
       "      <th>98</th>\n",
       "      <td>White Christmas</td>\n",
       "      <td>Bing Crosby</td>\n",
       "    </tr>\n",
       "    <tr>\n",
       "      <th>99</th>\n",
       "      <td>Pretty Little Poison</td>\n",
       "      <td>Warren Zeiders</td>\n",
       "    </tr>\n",
       "  </tbody>\n",
       "</table>\n",
       "<p>100 rows × 2 columns</p>\n",
       "</div>"
      ],
      "text/plain": [
       "                                       song_title           artist\n",
       "0                                     Lovin On Me      Jack Harlow\n",
       "1                                   Lil Boo Thang     Paul Russell\n",
       "2   I Remember Everything (feat. Kacey Musgraves)       Zach Bryan\n",
       "3                                     White Horse  Chris Stapleton\n",
       "4                                    Need A Favor       Jelly Roll\n",
       "..                                            ...              ...\n",
       "95                Last Christmas (Single Version)            Wham!\n",
       "96                                      TRUCK BED            HARDY\n",
       "97                                       Daylight    David Kushner\n",
       "98                                White Christmas      Bing Crosby\n",
       "99                           Pretty Little Poison   Warren Zeiders\n",
       "\n",
       "[100 rows x 2 columns]"
      ]
     },
     "execution_count": 1,
     "metadata": {},
     "output_type": "execute_result"
    }
   ],
   "source": [
    "import pandas as pd\n",
    "\n",
    "df = pd.read_csv('top100.csv')\n",
    "df"
   ]
  },
  {
   "cell_type": "code",
   "execution_count": 3,
   "id": "6cfadd7e",
   "metadata": {},
   "outputs": [
    {
     "name": "stdout",
     "output_type": "stream",
     "text": [
      "Enter a song title: Daylight\n",
      "Recommendation for you: 'Anti-Hero' by Taylor Swift.\n"
     ]
    }
   ],
   "source": [
    "import random\n",
    "\n",
    "df = pd.read_csv('top100.csv')\n",
    "\n",
    "def recommend_song(user_input):\n",
    "    # checking if user's input is in our list\n",
    "    if user_input in df['song_title'].values:\n",
    "        \n",
    "        # getting indexes of songs that are not the user's input\n",
    "        available_indexes = df.index[df['song_title'] != user_input].tolist()\n",
    "        \n",
    "        if available_indexes:\n",
    "            \n",
    "            # getting a random index from the available indexes\n",
    "            random_index = random.choice(available_indexes)\n",
    "            \n",
    "            # getting song and artist\n",
    "            song = df.loc[random_index, 'song_title']\n",
    "            artist = df.loc[random_index, 'artist']\n",
    "            \n",
    "            return f\"Recommendation for you: '{song}' by {artist}.\"\n",
    "        else:\n",
    "            return \"No recommendation at this moment.\"\n",
    "    else:\n",
    "        return \"Given song is not on the list. I can't provide any recommendation.\"\n",
    "\n",
    "user_input = input(\"Enter a song title: \")\n",
    "\n",
    "recommendation = recommend_song(user_input)\n",
    "\n",
    "print(recommendation)"
   ]
  },
  {
   "cell_type": "code",
   "execution_count": null,
   "id": "c33117b2",
   "metadata": {},
   "outputs": [],
   "source": []
  }
 ],
 "metadata": {
  "kernelspec": {
   "display_name": "Python 3 (ipykernel)",
   "language": "python",
   "name": "python3"
  },
  "language_info": {
   "codemirror_mode": {
    "name": "ipython",
    "version": 3
   },
   "file_extension": ".py",
   "mimetype": "text/x-python",
   "name": "python",
   "nbconvert_exporter": "python",
   "pygments_lexer": "ipython3",
   "version": "3.11.5"
  }
 },
 "nbformat": 4,
 "nbformat_minor": 5
}

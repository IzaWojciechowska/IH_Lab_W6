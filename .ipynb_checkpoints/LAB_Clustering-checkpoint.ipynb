{
 "cells": [
  {
   "cell_type": "markdown",
   "id": "f114e94a",
   "metadata": {},
   "source": [
    "# Lab | Unsupervised learning intro (GNOD - part 4)"
   ]
  },
  {
   "cell_type": "markdown",
   "id": "bcdc7289",
   "metadata": {},
   "source": [
    "# Clustering the main playlist"
   ]
  },
  {
   "cell_type": "code",
   "execution_count": 1,
   "id": "59485a16",
   "metadata": {},
   "outputs": [],
   "source": [
    "import numpy as np\n",
    "import matplotlib.pyplot as plt\n",
    "import pandas as pd\n",
    "from sklearn import cluster, datasets\n",
    "from sklearn.preprocessing import StandardScaler"
   ]
  },
  {
   "cell_type": "code",
   "execution_count": 2,
   "id": "b11e8cf5",
   "metadata": {},
   "outputs": [],
   "source": [
    "playlist_df = pd.read_csv('biggest_playlist.csv')"
   ]
  },
  {
   "cell_type": "code",
   "execution_count": 3,
   "id": "7ed1cb8d",
   "metadata": {},
   "outputs": [
    {
     "data": {
      "text/html": [
       "<div>\n",
       "<style scoped>\n",
       "    .dataframe tbody tr th:only-of-type {\n",
       "        vertical-align: middle;\n",
       "    }\n",
       "\n",
       "    .dataframe tbody tr th {\n",
       "        vertical-align: top;\n",
       "    }\n",
       "\n",
       "    .dataframe thead th {\n",
       "        text-align: right;\n",
       "    }\n",
       "</style>\n",
       "<table border=\"1\" class=\"dataframe\">\n",
       "  <thead>\n",
       "    <tr style=\"text-align: right;\">\n",
       "      <th></th>\n",
       "      <th>song_id</th>\n",
       "      <th>song_name</th>\n",
       "      <th>artist</th>\n",
       "      <th>danceability</th>\n",
       "      <th>energy</th>\n",
       "      <th>key</th>\n",
       "      <th>loudness</th>\n",
       "      <th>mode</th>\n",
       "      <th>speechiness</th>\n",
       "      <th>acousticness</th>\n",
       "      <th>instrumentalness</th>\n",
       "      <th>liveness</th>\n",
       "      <th>valence</th>\n",
       "      <th>tempo</th>\n",
       "      <th>duration_ms</th>\n",
       "      <th>time_signature</th>\n",
       "    </tr>\n",
       "  </thead>\n",
       "  <tbody>\n",
       "    <tr>\n",
       "      <th>0</th>\n",
       "      <td>3AA8xNhDC0MpqwkGX3EP5V</td>\n",
       "      <td>If I Ever Feel Better</td>\n",
       "      <td>Phoenix</td>\n",
       "      <td>0.755</td>\n",
       "      <td>0.553</td>\n",
       "      <td>6</td>\n",
       "      <td>-9.449</td>\n",
       "      <td>0</td>\n",
       "      <td>0.1070</td>\n",
       "      <td>0.04920</td>\n",
       "      <td>0.00607</td>\n",
       "      <td>0.0646</td>\n",
       "      <td>0.836</td>\n",
       "      <td>119.700</td>\n",
       "      <td>266600</td>\n",
       "      <td>4</td>\n",
       "    </tr>\n",
       "    <tr>\n",
       "      <th>1</th>\n",
       "      <td>2i8lRhmZNKaM1ypHwRybuD</td>\n",
       "      <td>Dance To The Underground</td>\n",
       "      <td>Radio 4</td>\n",
       "      <td>0.667</td>\n",
       "      <td>0.667</td>\n",
       "      <td>7</td>\n",
       "      <td>-6.267</td>\n",
       "      <td>1</td>\n",
       "      <td>0.0388</td>\n",
       "      <td>0.00013</td>\n",
       "      <td>0.00385</td>\n",
       "      <td>0.0711</td>\n",
       "      <td>0.843</td>\n",
       "      <td>130.321</td>\n",
       "      <td>243213</td>\n",
       "      <td>4</td>\n",
       "    </tr>\n",
       "  </tbody>\n",
       "</table>\n",
       "</div>"
      ],
      "text/plain": [
       "                  song_id                 song_name   artist  danceability  \\\n",
       "0  3AA8xNhDC0MpqwkGX3EP5V     If I Ever Feel Better  Phoenix         0.755   \n",
       "1  2i8lRhmZNKaM1ypHwRybuD  Dance To The Underground  Radio 4         0.667   \n",
       "\n",
       "   energy  key  loudness  mode  speechiness  acousticness  instrumentalness  \\\n",
       "0   0.553    6    -9.449     0       0.1070       0.04920           0.00607   \n",
       "1   0.667    7    -6.267     1       0.0388       0.00013           0.00385   \n",
       "\n",
       "   liveness  valence    tempo  duration_ms  time_signature  \n",
       "0    0.0646    0.836  119.700       266600               4  \n",
       "1    0.0711    0.843  130.321       243213               4  "
      ]
     },
     "execution_count": 3,
     "metadata": {},
     "output_type": "execute_result"
    }
   ],
   "source": [
    "playlist_df.head(2)"
   ]
  },
  {
   "cell_type": "code",
   "execution_count": 4,
   "id": "af16ed05",
   "metadata": {},
   "outputs": [
    {
     "data": {
      "text/html": [
       "<div>\n",
       "<style scoped>\n",
       "    .dataframe tbody tr th:only-of-type {\n",
       "        vertical-align: middle;\n",
       "    }\n",
       "\n",
       "    .dataframe tbody tr th {\n",
       "        vertical-align: top;\n",
       "    }\n",
       "\n",
       "    .dataframe thead th {\n",
       "        text-align: right;\n",
       "    }\n",
       "</style>\n",
       "<table border=\"1\" class=\"dataframe\">\n",
       "  <thead>\n",
       "    <tr style=\"text-align: right;\">\n",
       "      <th></th>\n",
       "      <th>danceability</th>\n",
       "      <th>energy</th>\n",
       "      <th>key</th>\n",
       "      <th>loudness</th>\n",
       "      <th>mode</th>\n",
       "      <th>speechiness</th>\n",
       "      <th>acousticness</th>\n",
       "      <th>instrumentalness</th>\n",
       "      <th>liveness</th>\n",
       "      <th>valence</th>\n",
       "      <th>tempo</th>\n",
       "      <th>duration_ms</th>\n",
       "    </tr>\n",
       "  </thead>\n",
       "  <tbody>\n",
       "    <tr>\n",
       "      <th>0</th>\n",
       "      <td>0.755</td>\n",
       "      <td>0.553</td>\n",
       "      <td>6</td>\n",
       "      <td>-9.449</td>\n",
       "      <td>0</td>\n",
       "      <td>0.1070</td>\n",
       "      <td>0.04920</td>\n",
       "      <td>0.00607</td>\n",
       "      <td>0.0646</td>\n",
       "      <td>0.836</td>\n",
       "      <td>119.700</td>\n",
       "      <td>266600</td>\n",
       "    </tr>\n",
       "    <tr>\n",
       "      <th>1</th>\n",
       "      <td>0.667</td>\n",
       "      <td>0.667</td>\n",
       "      <td>7</td>\n",
       "      <td>-6.267</td>\n",
       "      <td>1</td>\n",
       "      <td>0.0388</td>\n",
       "      <td>0.00013</td>\n",
       "      <td>0.00385</td>\n",
       "      <td>0.0711</td>\n",
       "      <td>0.843</td>\n",
       "      <td>130.321</td>\n",
       "      <td>243213</td>\n",
       "    </tr>\n",
       "  </tbody>\n",
       "</table>\n",
       "</div>"
      ],
      "text/plain": [
       "   danceability  energy  key  loudness  mode  speechiness  acousticness  \\\n",
       "0         0.755   0.553    6    -9.449     0       0.1070       0.04920   \n",
       "1         0.667   0.667    7    -6.267     1       0.0388       0.00013   \n",
       "\n",
       "   instrumentalness  liveness  valence    tempo  duration_ms  \n",
       "0           0.00607    0.0646    0.836  119.700       266600  \n",
       "1           0.00385    0.0711    0.843  130.321       243213  "
      ]
     },
     "execution_count": 4,
     "metadata": {},
     "output_type": "execute_result"
    }
   ],
   "source": [
    "# extracting features\n",
    "features = playlist_df.drop(['song_id', 'song_name', 'artist', 'time_signature'],axis=1)\n",
    "features.head(2)"
   ]
  },
  {
   "cell_type": "code",
   "execution_count": 5,
   "id": "7a935fcb",
   "metadata": {},
   "outputs": [],
   "source": [
    "# standardizing features\n",
    "scaler = StandardScaler().fit(features)\n",
    "standard_cluster = scaler.transform(features)\n",
    "\n",
    "# converting features back to dataframe\n",
    "standard_cluster = pd.DataFrame(standard_cluster,columns=features.columns)"
   ]
  },
  {
   "cell_type": "code",
   "execution_count": 6,
   "id": "23663209",
   "metadata": {},
   "outputs": [
    {
     "data": {
      "text/plain": [
       "Text(0.5, 1.0, 'Elbow Method showing the optimal k')"
      ]
     },
     "execution_count": 6,
     "metadata": {},
     "output_type": "execute_result"
    },
    {
     "data": {
      "image/png": "[encoded data removed]",
      "text/plain": [
       "<Figure size 1600x800 with 1 Axes>"
      ]
     },
     "metadata": {},
     "output_type": "display_data"
    }
   ],
   "source": [
    "# elbow method analysis to select the optimal number of clusters for the k-means algorithm\n",
    "\n",
    "import warnings\n",
    "warnings.filterwarnings(\"ignore\")\n",
    "\n",
    "%matplotlib inline\n",
    "\n",
    "from sklearn.cluster import KMeans\n",
    "\n",
    "K = range(2, 20)\n",
    "inertia = []\n",
    "\n",
    "for k in K:\n",
    "    kmeans = KMeans(n_clusters=k, random_state=137)\n",
    "    kmeans.fit(standard_cluster)\n",
    "    inertia.append(kmeans.inertia_)\n",
    "\n",
    "plt.figure(figsize=(16,8))\n",
    "plt.plot(K, inertia, 'bx-')\n",
    "plt.xlabel('k')\n",
    "plt.ylabel('inertia')\n",
    "plt.xticks(np.arange(min(K), max(K)+1, 1.0))\n",
    "plt.title('Elbow Method showing the optimal k')"
   ]
  },
  {
   "cell_type": "code",
   "execution_count": 7,
   "id": "244061d5",
   "metadata": {},
   "outputs": [
    {
     "data": {
      "text/plain": [
       "Text(0.5, 1.0, 'Slhouette score showing the optimal k')"
      ]
     },
     "execution_count": 7,
     "metadata": {},
     "output_type": "execute_result"
    },
    {
     "data": {
      "image/png": "[encoded data removed]",
      "text/plain": [
       "<Figure size 1600x800 with 1 Axes>"
      ]
     },
     "metadata": {},
     "output_type": "display_data"
    }
   ],
   "source": [
    "# Silhouette Score analysis to help determine the optimal number of clusters (k) for a k-means clustering algorithm\n",
    "\n",
    "from sklearn.metrics import silhouette_score\n",
    "\n",
    "K = range(2, 20)\n",
    "silhouette = []\n",
    "\n",
    "for k in K:\n",
    "    kmeans = KMeans(n_clusters=k,random_state=137)\n",
    "    kmeans.fit(standard_cluster)\n",
    "    silhouette.append(silhouette_score(standard_cluster, kmeans.predict(standard_cluster)))\n",
    "\n",
    "\n",
    "plt.figure(figsize=(16,8))\n",
    "plt.plot(K, silhouette, 'bx-')\n",
    "plt.xlabel('k')\n",
    "plt.ylabel('silhouette score')\n",
    "plt.xticks(np.arange(min(K), max(K)+1, 1.0))\n",
    "plt.title('Slhouette score showing the optimal k')"
   ]
  },
  {
   "cell_type": "code",
   "execution_count": 8,
   "id": "34f59add",
   "metadata": {},
   "outputs": [
    {
     "data": {
      "text/plain": [
       "0     1182\n",
       "1      940\n",
       "2     2306\n",
       "3     1690\n",
       "4      640\n",
       "5     1123\n",
       "6     1474\n",
       "7     2180\n",
       "8     1368\n",
       "9     1553\n",
       "10    1956\n",
       "11    2368\n",
       "12    1211\n",
       "13    1070\n",
       "14    1748\n",
       "15     957\n",
       "Name: count, dtype: int64"
      ]
     },
     "execution_count": 8,
     "metadata": {},
     "output_type": "execute_result"
    }
   ],
   "source": [
    "# KMeans model with specified number of clusters and fitting it to standardized data\n",
    "kmeans = KMeans(n_clusters=16, random_state=137).fit(standard_cluster)\n",
    "\n",
    "# predicting the cluster labels\n",
    "clusters = kmeans.predict(standard_cluster)\n",
    "\n",
    "pd.Series(clusters).value_counts().sort_index()"
   ]
  },
  {
   "cell_type": "code",
   "execution_count": 9,
   "id": "f406d9f8",
   "metadata": {},
   "outputs": [
    {
     "data": {
      "text/html": [
       "<div>\n",
       "<style scoped>\n",
       "    .dataframe tbody tr th:only-of-type {\n",
       "        vertical-align: middle;\n",
       "    }\n",
       "\n",
       "    .dataframe tbody tr th {\n",
       "        vertical-align: top;\n",
       "    }\n",
       "\n",
       "    .dataframe thead th {\n",
       "        text-align: right;\n",
       "    }\n",
       "</style>\n",
       "<table border=\"1\" class=\"dataframe\">\n",
       "  <thead>\n",
       "    <tr style=\"text-align: right;\">\n",
       "      <th></th>\n",
       "      <th>song_name</th>\n",
       "      <th>artist</th>\n",
       "      <th>cluster</th>\n",
       "    </tr>\n",
       "  </thead>\n",
       "  <tbody>\n",
       "    <tr>\n",
       "      <th>0</th>\n",
       "      <td>If I Ever Feel Better</td>\n",
       "      <td>Phoenix</td>\n",
       "      <td>11</td>\n",
       "    </tr>\n",
       "    <tr>\n",
       "      <th>1</th>\n",
       "      <td>Dance To The Underground</td>\n",
       "      <td>Radio 4</td>\n",
       "      <td>2</td>\n",
       "    </tr>\n",
       "    <tr>\n",
       "      <th>2</th>\n",
       "      <td>How We Do</td>\n",
       "      <td>Mount Sims</td>\n",
       "      <td>11</td>\n",
       "    </tr>\n",
       "    <tr>\n",
       "      <th>3</th>\n",
       "      <td>Fuck the Pain Away</td>\n",
       "      <td>Peaches</td>\n",
       "      <td>7</td>\n",
       "    </tr>\n",
       "    <tr>\n",
       "      <th>4</th>\n",
       "      <td>Street Surgery 2</td>\n",
       "      <td>Zongamin</td>\n",
       "      <td>0</td>\n",
       "    </tr>\n",
       "    <tr>\n",
       "      <th>...</th>\n",
       "      <td>...</td>\n",
       "      <td>...</td>\n",
       "      <td>...</td>\n",
       "    </tr>\n",
       "    <tr>\n",
       "      <th>23761</th>\n",
       "      <td>Dinero</td>\n",
       "      <td>Trinidad Cardona</td>\n",
       "      <td>7</td>\n",
       "    </tr>\n",
       "    <tr>\n",
       "      <th>23762</th>\n",
       "      <td>Bundles (feat. Taylor Girlz)</td>\n",
       "      <td>Kayla Nicole, Taylor Girlz</td>\n",
       "      <td>0</td>\n",
       "    </tr>\n",
       "    <tr>\n",
       "      <th>23763</th>\n",
       "      <td>Hermit the Frog</td>\n",
       "      <td>MARINA</td>\n",
       "      <td>7</td>\n",
       "    </tr>\n",
       "    <tr>\n",
       "      <th>23764</th>\n",
       "      <td>WHOLE LOTTA MONEY</td>\n",
       "      <td>BIA</td>\n",
       "      <td>0</td>\n",
       "    </tr>\n",
       "    <tr>\n",
       "      <th>23765</th>\n",
       "      <td>telepatía</td>\n",
       "      <td>Kali Uchis</td>\n",
       "      <td>14</td>\n",
       "    </tr>\n",
       "  </tbody>\n",
       "</table>\n",
       "<p>23766 rows × 3 columns</p>\n",
       "</div>"
      ],
      "text/plain": [
       "                          song_name                      artist  cluster\n",
       "0             If I Ever Feel Better                     Phoenix       11\n",
       "1          Dance To The Underground                     Radio 4        2\n",
       "2                         How We Do                  Mount Sims       11\n",
       "3                Fuck the Pain Away                     Peaches        7\n",
       "4                  Street Surgery 2                    Zongamin        0\n",
       "...                             ...                         ...      ...\n",
       "23761                        Dinero            Trinidad Cardona        7\n",
       "23762  Bundles (feat. Taylor Girlz)  Kayla Nicole, Taylor Girlz        0\n",
       "23763               Hermit the Frog                      MARINA        7\n",
       "23764             WHOLE LOTTA MONEY                         BIA        0\n",
       "23765                     telepatía                  Kali Uchis       14\n",
       "\n",
       "[23766 rows x 3 columns]"
      ]
     },
     "execution_count": 9,
     "metadata": {},
     "output_type": "execute_result"
    }
   ],
   "source": [
    "playlist_df['cluster']=clusters\n",
    "\n",
    "# new dataframe with clusters \n",
    "playlist_clustered=playlist_df[['song_name', 'artist', 'cluster']]\n",
    "\n",
    "playlist_clustered"
   ]
  },
  {
   "cell_type": "code",
   "execution_count": 10,
   "id": "3bba7be3",
   "metadata": {},
   "outputs": [],
   "source": [
    "import pickle\n",
    "\n",
    "# saving the scaler object for later\n",
    "pickle.dump(scaler, open('scaler.pkl', 'wb'))\n",
    "# reading:\n",
    "# scaler = pickle.load(open('scaler.pkl','rb'))\n",
    "\n",
    "# saving trained KMeans model \n",
    "pickle.dump(kmeans, open('kmean.pkl', 'wb'))\n",
    "# reading:\n",
    "# kmeans = pickle.load(open('kmean.pkl', 'rb'))"
   ]
  },
  {
   "cell_type": "code",
   "execution_count": 11,
   "id": "32ee7679",
   "metadata": {},
   "outputs": [],
   "source": [
    "# saving dataframe with clusters to csv file \n",
    "playlist_clustered.to_csv('playlist_with_clusters.csv',index=False)"
   ]
  },
  {
   "cell_type": "markdown",
   "id": "b7539f58",
   "metadata": {},
   "source": [
    "Checking whether or not the input song is in the PopVortex Hot100.\n",
    "\n",
    "Recommending another Hot100 song.\n",
    "\n",
    "If it is NOT in the hot 100, collecting the audio features from the Spotify API for the input song.\n",
    "\n",
    "The Spotify audio features of the submitted song should be sent to the clustering model, which returns a cluster number."
   ]
  },
  {
   "cell_type": "code",
   "execution_count": 12,
   "id": "548cb6b5",
   "metadata": {},
   "outputs": [],
   "source": [
    "import spotipy\n",
    "from spotipy.oauth2 import SpotifyClientCredentials\n",
    "\n",
    "secrets_file = open(\"C:\\\\Users\\\\Acer\\Desktop\\\\Ironhack Berlin\\\\ZAJECIA\\\\week6\\\\secrets.txt\",\"r\") \n",
    "\n",
    "string = secrets_file.read()\n",
    "\n",
    "secrets_dict={}\n",
    "for line in string.split('\\n'):\n",
    "    if len(line) > 0:\n",
    "        secrets_dict[line.split(':')[0]]=line.split(':')[1].strip()\n",
    "        \n",
    "# initializing SpotiPy with user credentials\n",
    "sp = spotipy.Spotify(auth_manager=SpotifyClientCredentials(client_id=secrets_dict['clientid'],\n",
    "                                                           client_secret=secrets_dict['clientsecret']))"
   ]
  },
  {
   "cell_type": "code",
   "execution_count": 13,
   "id": "29d72295",
   "metadata": {},
   "outputs": [
    {
     "data": {
      "text/html": [
       "<div>\n",
       "<style scoped>\n",
       "    .dataframe tbody tr th:only-of-type {\n",
       "        vertical-align: middle;\n",
       "    }\n",
       "\n",
       "    .dataframe tbody tr th {\n",
       "        vertical-align: top;\n",
       "    }\n",
       "\n",
       "    .dataframe thead th {\n",
       "        text-align: right;\n",
       "    }\n",
       "</style>\n",
       "<table border=\"1\" class=\"dataframe\">\n",
       "  <thead>\n",
       "    <tr style=\"text-align: right;\">\n",
       "      <th></th>\n",
       "      <th>song_title</th>\n",
       "      <th>artist</th>\n",
       "    </tr>\n",
       "  </thead>\n",
       "  <tbody>\n",
       "    <tr>\n",
       "      <th>0</th>\n",
       "      <td>Lovin On Me</td>\n",
       "      <td>Jack Harlow</td>\n",
       "    </tr>\n",
       "    <tr>\n",
       "      <th>1</th>\n",
       "      <td>Lil Boo Thang</td>\n",
       "      <td>Paul Russell</td>\n",
       "    </tr>\n",
       "    <tr>\n",
       "      <th>2</th>\n",
       "      <td>I Remember Everything (feat. Kacey Musgraves)</td>\n",
       "      <td>Zach Bryan</td>\n",
       "    </tr>\n",
       "  </tbody>\n",
       "</table>\n",
       "</div>"
      ],
      "text/plain": [
       "                                      song_title        artist\n",
       "0                                    Lovin On Me   Jack Harlow\n",
       "1                                  Lil Boo Thang  Paul Russell\n",
       "2  I Remember Everything (feat. Kacey Musgraves)    Zach Bryan"
      ]
     },
     "execution_count": 13,
     "metadata": {},
     "output_type": "execute_result"
    }
   ],
   "source": [
    "top100 = pd.read_csv('top100.csv')\n",
    "top100.head(3)"
   ]
  },
  {
   "cell_type": "code",
   "execution_count": 14,
   "id": "254f640d",
   "metadata": {},
   "outputs": [],
   "source": [
    "def get_track_features(song_name, artist_name):\n",
    "    # searching for the track on Spotify\n",
    "    results = sp.search(q=f'{song_name} artist:{artist_name}', type='track', limit=1)\n",
    "\n",
    "    # if there are results\n",
    "    if results['tracks']['items']:\n",
    "        # getting ID of the track (first found)\n",
    "        track_id = results['tracks']['items'][0]['id']\n",
    "        \n",
    "        # fetching audio features \n",
    "        audio_features = sp.audio_features(track_id)[0]\n",
    "\n",
    "        # selecting the attributes\n",
    "        selected_attributes = ['id', 'danceability', 'energy', 'key', 'loudness', 'mode', 'speechiness',\n",
    "                                'acousticness', 'instrumentalness', 'liveness', 'valence', 'tempo',\n",
    "                                'duration_ms', 'time_signature']\n",
    "\n",
    "        # creating dictionary with selected attributes\n",
    "        features_dict = {attr: audio_features[attr] for attr in selected_attributes}\n",
    "\n",
    "        # ddding additional information \n",
    "        features_dict['song_id'] = audio_features['id']\n",
    "        features_dict['song_name'] = sp.track(track_id)['name']\n",
    "        features_dict['artist'] = sp.track(track_id)['artists'][0]['name']\n",
    "\n",
    "        # creating dataframe\n",
    "        df = pd.DataFrame([features_dict])\n",
    "\n",
    "        # reordering columns\n",
    "        df = df[['song_id', 'song_name', 'artist', 'danceability', 'energy', 'key', 'loudness',\n",
    "                 'mode', 'speechiness', 'acousticness', 'instrumentalness', 'liveness',\n",
    "                 'valence', 'tempo', 'duration_ms', 'time_signature']]\n",
    "\n",
    "        # dropping unnecessary columns\n",
    "        new_df = df.drop(['song_id', 'song_name', 'artist', 'time_signature'], axis=1)\n",
    "\n",
    "        # standardizing new song\n",
    "        std_new_song = scaler.transform(new_df)\n",
    "        \n",
    "        # predicting cluster for the new song\n",
    "        new_cluster = kmeans.predict(std_new_song)\n",
    "        \n",
    "        # filtering dataframe to songs in the same cluster\n",
    "        df_cluster = playlist_clustered[playlist_clustered['cluster'] == list(new_cluster)[0]]\n",
    "\n",
    "        # randomly selecting a song from the cluster (sample(n=1) returns random row from the dataframe)\n",
    "        random_recommendation = df_cluster.sample(n=1)\n",
    "        \n",
    "        # the recommendation\n",
    "        print(f'Your recommendation: \\nSong: {random_recommendation[\"song_name\"].values[0]}\\nArtist: {random_recommendation[\"artist\"].values[0]}')\n",
    "        \n",
    "    else:\n",
    "        # if there are no results - exit\n",
    "        print('We have no other recommendations similar to your song.')"
   ]
  },
  {
   "cell_type": "code",
   "execution_count": 18,
   "id": "de90c3ac",
   "metadata": {},
   "outputs": [
    {
     "name": "stdout",
     "output_type": "stream",
     "text": [
      "Enter song title: houdini\n",
      "Enter artist: dua lipa\n",
      "Your recommendation: \n",
      "Song: So It's Sad to Be Apart\n",
      "Artist: Luminara Stellaris\n",
      "\n",
      "Another song recommendation? (type \"Y\" to continue, any other key to exit): y\n",
      "\n",
      "Enter song title: lovin on me\n",
      "Enter artist: jack harlow\n",
      "Your recommendation: \n",
      "Song: Standing Next to You (Instrumental)\n",
      "Artist: Jung Kook\n",
      "\n",
      "Another song recommendation? (type \"Y\" to continue, any other key to exit): n\n",
      "\n"
     ]
    }
   ],
   "source": [
    "while True:\n",
    "    # getting user input\n",
    "    input_song = input(\"Enter song title: \").lower()\n",
    "    input_artist = input(\"Enter artist: \").lower()\n",
    "\n",
    "    # converting song titles in top100 to lowercase\n",
    "    top100_lower = top100['song_title'].str.lower()\n",
    "\n",
    "    if input_song in top100_lower.values:\n",
    "        # if the input song is in top100, display a random recommendation from top100\n",
    "        top100_filtered = top100.loc[top100_lower != input_song]\n",
    "        random_recommendation = top100_filtered.sample(n=1)\n",
    "        print(f'Your recommendation: \\nSong: {random_recommendation[\"song_title\"].values[0]}\\nArtist: {random_recommendation[\"artist\"].values[0]}')\n",
    "    else:\n",
    "        # if the input song is not in top100, get recommendations using main function\n",
    "        get_track_features(input_song, input_artist)\n",
    "\n",
    "    # asking if the user want another recommendation\n",
    "    next_input = input('\\nAnother song recommendation? (type \"Y\" to continue, any other key to exit): ')\n",
    "    print()\n",
    "    if next_input.lower() != \"y\":\n",
    "        break"
   ]
  },
  {
   "cell_type": "code",
   "execution_count": null,
   "id": "6abaeebb",
   "metadata": {},
   "outputs": [],
   "source": []
  }
 ],
 "metadata": {
  "kernelspec": {
   "display_name": "Python 3 (ipykernel)",
   "language": "python",
   "name": "python3"
  },
  "language_info": {
   "codemirror_mode": {
    "name": "ipython",
    "version": 3
   },
   "file_extension": ".py",
   "mimetype": "text/x-python",
   "name": "python",
   "nbconvert_exporter": "python",
   "pygments_lexer": "ipython3",
   "version": "3.11.5"
  }
 },
 "nbformat": 4,
 "nbformat_minor": 5
}

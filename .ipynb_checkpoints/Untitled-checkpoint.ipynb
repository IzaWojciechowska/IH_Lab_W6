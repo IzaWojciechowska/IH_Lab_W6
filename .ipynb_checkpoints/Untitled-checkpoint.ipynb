{
 "cells": [
  {
   "cell_type": "code",
   "execution_count": null,
   "id": "de9e8d73",
   "metadata": {},
   "outputs": [],
   "source": [
    "top100 = pd.read_csv('top100.csv')\n",
    "top100.head(2)"
   ]
  },
  {
   "cell_type": "code",
   "execution_count": null,
   "id": "d9d33f76",
   "metadata": {},
   "outputs": [],
   "source": [
    "#first part of the pipeline\n",
    "import random \n",
    "\n",
    "flag = True\n",
    "\n",
    "while flag:\n",
    "    new_song = input(\"Enter song title: \")\n",
    "    #new_artist = input(\"Enter artist: \")\n",
    "\n",
    "    if new_song in list(top100['song_title']):\n",
    "        print(random.choice(list(top100['song_title'])))\n",
    "    else:\n",
    "        print('No Recommendation')\n",
    "        \n",
    "    next = input('Another song recomendation? (type \"Y\"/\"N\"):')\n",
    "    if next.lower() != \"y\":\n",
    "        flag = False"
   ]
  },
  {
   "cell_type": "code",
   "execution_count": null,
   "id": "8b4be4ed",
   "metadata": {},
   "outputs": [],
   "source": [
    "secrets_file = open(\"C:\\\\Users\\\\Acer\\Desktop\\\\Ironhack Berlin\\\\ZAJECIA\\\\week6\\\\secrets.txt\",\"r\") \n",
    "\n",
    "string = secrets_file.read()\n",
    "\n",
    "secrets_dict={}\n",
    "for line in string.split('\\n'):\n",
    "    if len(line) > 0:\n",
    "        secrets_dict[line.split(':')[0]]=line.split(':')[1].strip()\n",
    "        \n",
    "# initializing SpotiPy with user credentials\n",
    "sp = spotipy.Spotify(auth_manager=SpotifyClientCredentials(client_id=secrets_dict['clientid'],\n",
    "                                                           client_secret=secrets_dict['clientsecret']))"
   ]
  }
 ],
 "metadata": {
  "kernelspec": {
   "display_name": "Python 3 (ipykernel)",
   "language": "python",
   "name": "python3"
  },
  "language_info": {
   "codemirror_mode": {
    "name": "ipython",
    "version": 3
   },
   "file_extension": ".py",
   "mimetype": "text/x-python",
   "name": "python",
   "nbconvert_exporter": "python",
   "pygments_lexer": "ipython3",
   "version": "3.11.5"
  }
 },
 "nbformat": 4,
 "nbformat_minor": 5
}

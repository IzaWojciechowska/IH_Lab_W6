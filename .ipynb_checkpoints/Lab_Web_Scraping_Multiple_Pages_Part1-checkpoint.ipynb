{
 "cells": [
  {
   "cell_type": "markdown",
   "id": "6f711ccd",
   "metadata": {},
   "source": [
    "# Lab | Web Scraping Multiple Pages"
   ]
  },
  {
   "cell_type": "code",
   "execution_count": 1,
   "id": "4dca872f",
   "metadata": {},
   "outputs": [],
   "source": [
    "from time import sleep\n",
    "from random import randint\n",
    "import requests\n",
    "from bs4 import BeautifulSoup\n",
    "import pandas as pd"
   ]
  },
  {
   "cell_type": "markdown",
   "id": "3a23e6b8",
   "metadata": {},
   "source": [
    "# Part 1"
   ]
  },
  {
   "cell_type": "code",
   "execution_count": 2,
   "id": "beb34ec8",
   "metadata": {},
   "outputs": [
    {
     "data": {
      "text/plain": [
       "200"
      ]
     },
     "execution_count": 2,
     "metadata": {},
     "output_type": "execute_result"
    }
   ],
   "source": [
    "url = \"https://open.spotify.com/playlist/1EVE9kOZ2i4171hNdvWVhU\"\n",
    "\n",
    "response = requests.get(url)\n",
    "response.status_code"
   ]
  },
  {
   "cell_type": "code",
   "execution_count": 3,
   "id": "da7b45d3",
   "metadata": {},
   "outputs": [],
   "source": [
    "soup = BeautifulSoup(response.content, \"html.parser\")\n",
    "#print(soup.prettify())"
   ]
  },
  {
   "cell_type": "code",
   "execution_count": null,
   "id": "b788d3b7",
   "metadata": {},
   "outputs": [],
   "source": [
    "titles = []\n",
    "artists = []\n",
    "\n",
    "# iterating over each page of results\n",
    "for page_num in range(1, 4):  # 4 is the number of pages to scrape\n",
    "# (pagination) in the case of Spotify, when you browse a playlist or album, there is a certain number of songs that may not \n",
    "# fit all on one page. So, the data is divided into pages to allow users to gradually browse through it\n",
    "\n",
    "    # waiting to avoid too rapid requests to the server\n",
    "    sleep(randint(1, 3))\n",
    "    \n",
    "    url = f\"https://open.spotify.com/playlist/1EVE9kOZ2i4171hNdvWVhU?page={page_num}\"\n",
    "\n",
    "    response = requests.get(url)\n",
    "    soup = BeautifulSoup(response.content, \"html.parser\")\n",
    "\n",
    "    # getting the links to the songs on this page\n",
    "    song_urls = [\n",
    "        tag[\"content\"] \n",
    "        for tag in soup.find_all(\"meta\", {\"name\": \"music:song\"})\n",
    "    ]\n",
    "\n",
    "    # iterating over each link and get title and artist (hier artist is still a next link)\n",
    "    for song_url in song_urls:\n",
    "        sleep(randint(1, 3))\n",
    "        \n",
    "        # getting title and artist for each link\n",
    "        response_song = requests.get(song_url)\n",
    "        soup_song = BeautifulSoup(response_song.content, \"html.parser\")\n",
    "        \n",
    "        # finding title and artist\n",
    "        title = soup_song.find(\"meta\", {\"property\": \"og:title\"})[\"content\"]\n",
    "        artist_url = soup_song.find(\"meta\", {\"name\": \"music:musician\"})[\"content\"]\n",
    "        \n",
    "        # getting artist name from link\n",
    "        response_artist = requests.get(artist_url)\n",
    "        soup_artist = BeautifulSoup(response_artist.content, \"html.parser\")\n",
    "        artist = soup_artist.find(\"meta\", {\"property\": \"og:title\"})[\"content\"]\n",
    "        \n",
    "        # adding to lists\n",
    "        titles.append(title)\n",
    "        artists.append(artist)\n",
    "\n",
    "        \n",
    "df = pd.DataFrame({\"song_title\": titles, \"artist\": artists})\n",
    "\n",
    "# saving to a CSV file\n",
    "#df.to_csv(\"spotify_songs.csv\", index=False)\n",
    "\n",
    "display(df)"
   ]
  },
  {
   "cell_type": "code",
   "execution_count": null,
   "id": "3580d2da",
   "metadata": {},
   "outputs": [],
   "source": []
  }
 ],
 "metadata": {
  "kernelspec": {
   "display_name": "Python 3 (ipykernel)",
   "language": "python",
   "name": "python3"
  },
  "language_info": {
   "codemirror_mode": {
    "name": "ipython",
    "version": 3
   },
   "file_extension": ".py",
   "mimetype": "text/x-python",
   "name": "python",
   "nbconvert_exporter": "python",
   "pygments_lexer": "ipython3",
   "version": "3.11.5"
  }
 },
 "nbformat": 4,
 "nbformat_minor": 5
}

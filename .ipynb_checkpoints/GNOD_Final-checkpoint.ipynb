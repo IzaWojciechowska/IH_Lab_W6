{
 "cells": [
  {
   "cell_type": "code",
   "execution_count": 1,
   "id": "5b27fc43",
   "metadata": {},
   "outputs": [],
   "source": [
    "import pandas as pd\n",
    "import spotipy\n",
    "from spotipy.oauth2 import SpotifyClientCredentials\n",
    "import pickle"
   ]
  },
  {
   "cell_type": "code",
   "execution_count": 2,
   "id": "67ea106d",
   "metadata": {},
   "outputs": [],
   "source": [
    "secrets_file = open(\"C:\\\\Users\\\\Acer\\Desktop\\\\Ironhack Berlin\\\\ZAJECIA\\\\week6\\\\secrets.txt\",\"r\") \n",
    "\n",
    "string = secrets_file.read()\n",
    "\n",
    "secrets_dict={}\n",
    "for line in string.split('\\n'):\n",
    "    if len(line) > 0:\n",
    "        secrets_dict[line.split(':')[0]]=line.split(':')[1].strip()\n",
    "        \n",
    "# initializing SpotiPy with user credentials\n",
    "sp = spotipy.Spotify(auth_manager=SpotifyClientCredentials(client_id=secrets_dict['clientid'],\n",
    "                                                           client_secret=secrets_dict['clientsecret']))"
   ]
  },
  {
   "cell_type": "code",
   "execution_count": 3,
   "id": "45866224",
   "metadata": {},
   "outputs": [],
   "source": [
    "# dataframes with playlists\n",
    "top100 = pd.read_csv('top100.csv')\n",
    "playlist_clustered = pd.read_csv('playlist_with_clusters.csv')"
   ]
  },
  {
   "cell_type": "code",
   "execution_count": 4,
   "id": "e1bce448",
   "metadata": {},
   "outputs": [],
   "source": [
    "# loading pre-trained models\n",
    "scaler = pickle.load(open('scaler.pkl','rb'))\n",
    "kmeans = pickle.load(open('kmean.pkl', 'rb'))"
   ]
  },
  {
   "cell_type": "code",
   "execution_count": 5,
   "id": "ee592872",
   "metadata": {},
   "outputs": [],
   "source": [
    "def get_track_features(song_name, artist_name):\n",
    "    try:\n",
    "        # searching for the track on Spotify\n",
    "        results = sp.search(q=f'{song_name} artist:{artist_name}', type='track', limit=1)\n",
    "\n",
    "        # if there are results\n",
    "        if results['tracks']['items']:\n",
    "            # getting ID of the track (first found)\n",
    "            track_id = results['tracks']['items'][0]['id']\n",
    "\n",
    "            # fetching audio features\n",
    "            audio_features = sp.audio_features(track_id)[0]\n",
    "\n",
    "            # selecting the attributes\n",
    "            selected_attributes = ['id', 'danceability', 'energy', 'key', 'loudness', 'mode', 'speechiness',\n",
    "                                    'acousticness', 'instrumentalness', 'liveness', 'valence', 'tempo',\n",
    "                                    'duration_ms', 'time_signature']\n",
    "\n",
    "            # creating dictionary with selected attributes\n",
    "            features_dict = {attr: audio_features[attr] for attr in selected_attributes}\n",
    "\n",
    "            # adding additional information\n",
    "            features_dict['song_id'] = audio_features['id']\n",
    "            features_dict['song_name'] = sp.track(track_id)['name']\n",
    "            features_dict['artist'] = sp.track(track_id)['artists'][0]['name']\n",
    "\n",
    "            # creating dataframe\n",
    "            df = pd.DataFrame([features_dict])\n",
    "\n",
    "            # reordering columns\n",
    "            df = df[['song_id', 'song_name', 'artist', 'danceability', 'energy', 'key', 'loudness',\n",
    "                     'mode', 'speechiness', 'acousticness', 'instrumentalness', 'liveness',\n",
    "                     'valence', 'tempo', 'duration_ms', 'time_signature']]\n",
    "\n",
    "            # dropping unnecessary columns\n",
    "            new_df = df.drop(['song_id', 'song_name', 'artist', 'time_signature'], axis=1)\n",
    "\n",
    "            # standardizing new song\n",
    "            std_new_song = scaler.transform(new_df)\n",
    "\n",
    "            # predicting cluster for the new song\n",
    "            new_cluster = kmeans.predict(std_new_song)\n",
    "\n",
    "            # filtering dataframe to songs in the same cluster\n",
    "            df_cluster = playlist_clustered[playlist_clustered['cluster'] == list(new_cluster)[0]]\n",
    "\n",
    "            # randomly selecting a song from the cluster (sample(n=1) returns random row from the dataframe)\n",
    "            random_recommendation = df_cluster.sample(n=1)\n",
    "\n",
    "            # recommendation\n",
    "            print(f'Your recommendation: \\nSong: {random_recommendation[\"song_name\"].values[0]}\\nArtist: {random_recommendation[\"artist\"].values[0]}')\n",
    "\n",
    "        else:\n",
    "            # if there are no results - exit\n",
    "            print('We have no other recommendations similar to your song.')\n",
    "\n",
    "    except Exception as e:\n",
    "        print(f'An error occurred: {str(e)}')"
   ]
  },
  {
   "cell_type": "code",
   "execution_count": 6,
   "id": "a20a3c54",
   "metadata": {},
   "outputs": [
    {
     "name": "stdout",
     "output_type": "stream",
     "text": [
      "Enter song title: houdini\n",
      "Enter artist: dua lipa\n",
      "Your recommendation: \n",
      "Song: You Broke My Heart\n",
      "Artist: Drake\n",
      "\n",
      "Another song recommendation? (type \"Y\" to continue, any other key to exit): y\n",
      "\n",
      "Enter song title: lovin on me\n",
      "Enter artist: jack harlow\n",
      "Your recommendation: \n",
      "Song: Need A Favor\n",
      "Artist: Jelly Roll\n",
      "\n",
      "Another song recommendation? (type \"Y\" to continue, any other key to exit): n\n",
      "\n"
     ]
    }
   ],
   "source": [
    "while True:\n",
    "    try:\n",
    "        # getting user input\n",
    "        input_song = input(\"Enter song title: \").lower()\n",
    "        input_artist = input(\"Enter artist: \").lower()\n",
    "\n",
    "        # converting song titles in top100 to lowercase\n",
    "        top100_lower = top100['song_title'].str.lower()\n",
    "\n",
    "        if input_song in top100_lower.values:\n",
    "            # if the input song is in top100, display a random recommendation from top100\n",
    "            top100_filtered = top100.loc[top100_lower != input_song]\n",
    "            random_recommendation = top100_filtered.sample(n=1)\n",
    "            print(f'Your recommendation: \\nSong: {random_recommendation[\"song_title\"].values[0]}\\nArtist: {random_recommendation[\"artist\"].values[0]}')\n",
    "        else:\n",
    "            # if the input song is not in top100, get recommendations using the main function\n",
    "            get_track_features(input_song, input_artist)\n",
    "\n",
    "        # asking if the user wants another recommendation\n",
    "        next_input = input('\\nAnother song recommendation? (type \"Y\" to continue, any other key to exit): ')\n",
    "        print()\n",
    "        if next_input.lower() != \"y\":\n",
    "            break\n",
    "\n",
    "    except Exception as e:\n",
    "        print(f'An error occurred: {str(e)}')"
   ]
  },
  {
   "cell_type": "code",
   "execution_count": null,
   "id": "25894c76",
   "metadata": {},
   "outputs": [],
   "source": []
  }
 ],
 "metadata": {
  "kernelspec": {
   "display_name": "Python 3 (ipykernel)",
   "language": "python",
   "name": "python3"
  },
  "language_info": {
   "codemirror_mode": {
    "name": "ipython",
    "version": 3
   },
   "file_extension": ".py",
   "mimetype": "text/x-python",
   "name": "python",
   "nbconvert_exporter": "python",
   "pygments_lexer": "ipython3",
   "version": "3.11.5"
  }
 },
 "nbformat": 4,
 "nbformat_minor": 5
}

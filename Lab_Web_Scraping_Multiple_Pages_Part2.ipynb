{
 "cells": [
  {
   "cell_type": "markdown",
   "id": "361815fd",
   "metadata": {},
   "source": [
    "# Part 2"
   ]
  },
  {
   "cell_type": "markdown",
   "id": "c4840cdc",
   "metadata": {},
   "source": [
    "# 1. \n",
    "Retrieve an arbitrary Wikipedia page of \"Python\" and create a list of links on that page: url ='https://en.wikipedia.org/wiki/Python'"
   ]
  },
  {
   "cell_type": "code",
   "execution_count": 1,
   "id": "ece21ec1",
   "metadata": {},
   "outputs": [],
   "source": [
    "from bs4 import BeautifulSoup\n",
    "import requests\n",
    "import pandas as pd"
   ]
  },
  {
   "cell_type": "code",
   "execution_count": 2,
   "id": "5d08f271",
   "metadata": {},
   "outputs": [
    {
     "data": {
      "text/plain": [
       "200"
      ]
     },
     "execution_count": 2,
     "metadata": {},
     "output_type": "execute_result"
    }
   ],
   "source": [
    "url ='https://en.wikipedia.org/wiki/Python'\n",
    "\n",
    "response = requests.get(url)\n",
    "response.status_code"
   ]
  },
  {
   "cell_type": "code",
   "execution_count": 3,
   "id": "76ed378b",
   "metadata": {},
   "outputs": [],
   "source": [
    "soup = BeautifulSoup(response.content, \"html.parser\")\n",
    "#soup"
   ]
  },
  {
   "cell_type": "code",
   "execution_count": 4,
   "id": "d7311165",
   "metadata": {},
   "outputs": [
    {
     "data": {
      "text/plain": [
       "'/wiki/Main_Page'"
      ]
     },
     "execution_count": 4,
     "metadata": {},
     "output_type": "execute_result"
    }
   ],
   "source": [
    "soup.select('li:nth-child(1) > a')[0]['href']"
   ]
  },
  {
   "cell_type": "code",
   "execution_count": 5,
   "id": "e0f023a9",
   "metadata": {},
   "outputs": [
    {
     "data": {
      "text/plain": [
       "26"
      ]
     },
     "execution_count": 5,
     "metadata": {},
     "output_type": "execute_result"
    }
   ],
   "source": [
    "len(soup.select('li:nth-child(1) > a'))"
   ]
  },
  {
   "cell_type": "code",
   "execution_count": 6,
   "id": "23238222",
   "metadata": {},
   "outputs": [],
   "source": [
    "links = []\n",
    "\n",
    "for i in range(len(soup.select('li:nth-child(1) > a'))):\n",
    "    links.append(soup.select('li:nth-child(1) > a')[i]['href'])"
   ]
  },
  {
   "cell_type": "code",
   "execution_count": 7,
   "id": "dca2fc9f",
   "metadata": {},
   "outputs": [
    {
     "data": {
      "text/html": [
       "<div>\n",
       "<style scoped>\n",
       "    .dataframe tbody tr th:only-of-type {\n",
       "        vertical-align: middle;\n",
       "    }\n",
       "\n",
       "    .dataframe tbody tr th {\n",
       "        vertical-align: top;\n",
       "    }\n",
       "\n",
       "    .dataframe thead th {\n",
       "        text-align: right;\n",
       "    }\n",
       "</style>\n",
       "<table border=\"1\" class=\"dataframe\">\n",
       "  <thead>\n",
       "    <tr style=\"text-align: right;\">\n",
       "      <th></th>\n",
       "      <th>list_of_links</th>\n",
       "    </tr>\n",
       "  </thead>\n",
       "  <tbody>\n",
       "    <tr>\n",
       "      <th>0</th>\n",
       "      <td>/wiki/Main_Page</td>\n",
       "    </tr>\n",
       "    <tr>\n",
       "      <th>1</th>\n",
       "      <td>/wiki/Help:Contents</td>\n",
       "    </tr>\n",
       "    <tr>\n",
       "      <th>2</th>\n",
       "      <td>/w/index.php?title=Special:CreateAccount&amp;retur...</td>\n",
       "    </tr>\n",
       "    <tr>\n",
       "      <th>3</th>\n",
       "      <td>/w/index.php?title=Special:CreateAccount&amp;retur...</td>\n",
       "    </tr>\n",
       "    <tr>\n",
       "      <th>4</th>\n",
       "      <td>/wiki/Special:MyContributions</td>\n",
       "    </tr>\n",
       "    <tr>\n",
       "      <th>5</th>\n",
       "      <td>#</td>\n",
       "    </tr>\n",
       "    <tr>\n",
       "      <th>6</th>\n",
       "      <td>https://af.wikipedia.org/wiki/Python</td>\n",
       "    </tr>\n",
       "    <tr>\n",
       "      <th>7</th>\n",
       "      <td>/wiki/Python</td>\n",
       "    </tr>\n",
       "    <tr>\n",
       "      <th>8</th>\n",
       "      <td>/wiki/Python</td>\n",
       "    </tr>\n",
       "    <tr>\n",
       "      <th>9</th>\n",
       "      <td>/wiki/Python</td>\n",
       "    </tr>\n",
       "    <tr>\n",
       "      <th>10</th>\n",
       "      <td>/wiki/Special:WhatLinksHere/Python</td>\n",
       "    </tr>\n",
       "    <tr>\n",
       "      <th>11</th>\n",
       "      <td>/w/index.php?title=Special:DownloadAsPdf&amp;page=...</td>\n",
       "    </tr>\n",
       "    <tr>\n",
       "      <th>12</th>\n",
       "      <td>https://commons.wikimedia.org/wiki/Category:Py...</td>\n",
       "    </tr>\n",
       "    <tr>\n",
       "      <th>13</th>\n",
       "      <td>/wiki/Pythonidae</td>\n",
       "    </tr>\n",
       "    <tr>\n",
       "      <th>14</th>\n",
       "      <td>/wiki/Python_(genus)</td>\n",
       "    </tr>\n",
       "    <tr>\n",
       "      <th>15</th>\n",
       "      <td>/wiki/Python_(programming_language)</td>\n",
       "    </tr>\n",
       "    <tr>\n",
       "      <th>16</th>\n",
       "      <td>/wiki/Python_of_Aenus</td>\n",
       "    </tr>\n",
       "    <tr>\n",
       "      <th>17</th>\n",
       "      <td>/wiki/Python_(Efteling)</td>\n",
       "    </tr>\n",
       "    <tr>\n",
       "      <th>18</th>\n",
       "      <td>/wiki/Python_(automobile_maker)</td>\n",
       "    </tr>\n",
       "    <tr>\n",
       "      <th>19</th>\n",
       "      <td>/wiki/Python_(missile)</td>\n",
       "    </tr>\n",
       "    <tr>\n",
       "      <th>20</th>\n",
       "      <td>/wiki/Python_(codename)</td>\n",
       "    </tr>\n",
       "    <tr>\n",
       "      <th>21</th>\n",
       "      <td>/wiki/Python_(Monty)_Pictures</td>\n",
       "    </tr>\n",
       "    <tr>\n",
       "      <th>22</th>\n",
       "      <td>/wiki/Category:Disambiguation_pages</td>\n",
       "    </tr>\n",
       "    <tr>\n",
       "      <th>23</th>\n",
       "      <td>/wiki/Category:Short_description_is_different_...</td>\n",
       "    </tr>\n",
       "    <tr>\n",
       "      <th>24</th>\n",
       "      <td>https://foundation.wikimedia.org/wiki/Special:...</td>\n",
       "    </tr>\n",
       "    <tr>\n",
       "      <th>25</th>\n",
       "      <td>https://wikimediafoundation.org/</td>\n",
       "    </tr>\n",
       "  </tbody>\n",
       "</table>\n",
       "</div>"
      ],
      "text/plain": [
       "                                        list_of_links\n",
       "0                                     /wiki/Main_Page\n",
       "1                                 /wiki/Help:Contents\n",
       "2   /w/index.php?title=Special:CreateAccount&retur...\n",
       "3   /w/index.php?title=Special:CreateAccount&retur...\n",
       "4                       /wiki/Special:MyContributions\n",
       "5                                                   #\n",
       "6                https://af.wikipedia.org/wiki/Python\n",
       "7                                        /wiki/Python\n",
       "8                                        /wiki/Python\n",
       "9                                        /wiki/Python\n",
       "10                 /wiki/Special:WhatLinksHere/Python\n",
       "11  /w/index.php?title=Special:DownloadAsPdf&page=...\n",
       "12  https://commons.wikimedia.org/wiki/Category:Py...\n",
       "13                                   /wiki/Pythonidae\n",
       "14                               /wiki/Python_(genus)\n",
       "15                /wiki/Python_(programming_language)\n",
       "16                              /wiki/Python_of_Aenus\n",
       "17                            /wiki/Python_(Efteling)\n",
       "18                    /wiki/Python_(automobile_maker)\n",
       "19                             /wiki/Python_(missile)\n",
       "20                            /wiki/Python_(codename)\n",
       "21                      /wiki/Python_(Monty)_Pictures\n",
       "22                /wiki/Category:Disambiguation_pages\n",
       "23  /wiki/Category:Short_description_is_different_...\n",
       "24  https://foundation.wikimedia.org/wiki/Special:...\n",
       "25                   https://wikimediafoundation.org/"
      ]
     },
     "execution_count": 7,
     "metadata": {},
     "output_type": "execute_result"
    }
   ],
   "source": [
    "df = pd.DataFrame({\"list_of_links\":links})\n",
    "df"
   ]
  },
  {
   "cell_type": "markdown",
   "id": "a66f0a79",
   "metadata": {},
   "source": [
    "# 2.\n",
    "Find the number of titles that have changed in the United States Code since its last release point: url = 'http://uscode.house.gov/download/download.shtml'"
   ]
  },
  {
   "cell_type": "code",
   "execution_count": 8,
   "id": "33b50951",
   "metadata": {},
   "outputs": [
    {
     "data": {
      "text/plain": [
       "200"
      ]
     },
     "execution_count": 8,
     "metadata": {},
     "output_type": "execute_result"
    }
   ],
   "source": [
    "url = 'http://uscode.house.gov/download/download.shtml'\n",
    "\n",
    "response = requests.get(url)\n",
    "response.status_code"
   ]
  },
  {
   "cell_type": "code",
   "execution_count": 9,
   "id": "d3debd5a",
   "metadata": {},
   "outputs": [],
   "source": [
    "soup = BeautifulSoup(response.content, \"html.parser\")\n",
    "#soup"
   ]
  },
  {
   "cell_type": "code",
   "execution_count": 10,
   "id": "84fb47ca",
   "metadata": {},
   "outputs": [
    {
     "name": "stdout",
     "output_type": "stream",
     "text": [
      "The number of titles:  1\n"
     ]
    }
   ],
   "source": [
    "print('The number of titles: ', len(soup.select('.usctitlechanged')))"
   ]
  },
  {
   "cell_type": "markdown",
   "id": "7c85025c",
   "metadata": {},
   "source": [
    "# 3.\n",
    "List all language names and number of related articles in the order they appear in wikipedia.org: url = 'https://www.wikipedia.org/'"
   ]
  },
  {
   "cell_type": "code",
   "execution_count": 11,
   "id": "3e4760d2",
   "metadata": {},
   "outputs": [
    {
     "data": {
      "text/plain": [
       "200"
      ]
     },
     "execution_count": 11,
     "metadata": {},
     "output_type": "execute_result"
    }
   ],
   "source": [
    "url = 'https://www.wikipedia.org/'\n",
    "\n",
    "response = requests.get(url)\n",
    "response.status_code"
   ]
  },
  {
   "cell_type": "code",
   "execution_count": 12,
   "id": "417399b5",
   "metadata": {},
   "outputs": [],
   "source": [
    "soup = BeautifulSoup(response.content, \"html.parser\")\n",
    "#soup"
   ]
  },
  {
   "cell_type": "code",
   "execution_count": 13,
   "id": "67f9e874",
   "metadata": {},
   "outputs": [],
   "source": [
    "languages = []\n",
    "articles = []\n",
    "\n",
    "for i in range(len(soup.select('div.central-featured-lang strong'))):\n",
    "    languages.append(soup.select('div.central-featured-lang strong')[i].get_text())\n",
    "    articles.append(soup.select('div.central-featured-lang small')[i].get_text())"
   ]
  },
  {
   "cell_type": "code",
   "execution_count": 15,
   "id": "c747ae8b",
   "metadata": {},
   "outputs": [
    {
     "data": {
      "text/html": [
       "<div>\n",
       "<style scoped>\n",
       "    .dataframe tbody tr th:only-of-type {\n",
       "        vertical-align: middle;\n",
       "    }\n",
       "\n",
       "    .dataframe tbody tr th {\n",
       "        vertical-align: top;\n",
       "    }\n",
       "\n",
       "    .dataframe thead th {\n",
       "        text-align: right;\n",
       "    }\n",
       "</style>\n",
       "<table border=\"1\" class=\"dataframe\">\n",
       "  <thead>\n",
       "    <tr style=\"text-align: right;\">\n",
       "      <th></th>\n",
       "      <th>language</th>\n",
       "      <th>number_of_articles</th>\n",
       "    </tr>\n",
       "  </thead>\n",
       "  <tbody>\n",
       "    <tr>\n",
       "      <th>0</th>\n",
       "      <td>English</td>\n",
       "      <td>6 744 000+ articles</td>\n",
       "    </tr>\n",
       "    <tr>\n",
       "      <th>1</th>\n",
       "      <td>Español</td>\n",
       "      <td>1 906 000+ artículos</td>\n",
       "    </tr>\n",
       "    <tr>\n",
       "      <th>2</th>\n",
       "      <td>Русский</td>\n",
       "      <td>1 947 000+ статей</td>\n",
       "    </tr>\n",
       "    <tr>\n",
       "      <th>3</th>\n",
       "      <td>日本語</td>\n",
       "      <td>1 392 000+ 記事</td>\n",
       "    </tr>\n",
       "    <tr>\n",
       "      <th>4</th>\n",
       "      <td>Deutsch</td>\n",
       "      <td>2 852 000+ Artikel</td>\n",
       "    </tr>\n",
       "    <tr>\n",
       "      <th>5</th>\n",
       "      <td>Français</td>\n",
       "      <td>2 567 000+ articles</td>\n",
       "    </tr>\n",
       "    <tr>\n",
       "      <th>6</th>\n",
       "      <td>Italiano</td>\n",
       "      <td>1 835 000+ voci</td>\n",
       "    </tr>\n",
       "    <tr>\n",
       "      <th>7</th>\n",
       "      <td>中文</td>\n",
       "      <td>1 387 000+ 条目 / 條目</td>\n",
       "    </tr>\n",
       "    <tr>\n",
       "      <th>8</th>\n",
       "      <td>العربية</td>\n",
       "      <td>1 221 000+ مقالة</td>\n",
       "    </tr>\n",
       "    <tr>\n",
       "      <th>9</th>\n",
       "      <td>Português</td>\n",
       "      <td>1 113 000+ artigos</td>\n",
       "    </tr>\n",
       "  </tbody>\n",
       "</table>\n",
       "</div>"
      ],
      "text/plain": [
       "    language    number_of_articles\n",
       "0    English   6 744 000+ articles\n",
       "1    Español  1 906 000+ artículos\n",
       "2    Русский     1 947 000+ статей\n",
       "3        日本語         1 392 000+ 記事\n",
       "4    Deutsch    2 852 000+ Artikel\n",
       "5   Français   2 567 000+ articles\n",
       "6   Italiano       1 835 000+ voci\n",
       "7         中文    1 387 000+ 条目 / 條目\n",
       "8    العربية      1 221 000+ مقالة\n",
       "9  Português    1 113 000+ artigos"
      ]
     },
     "execution_count": 15,
     "metadata": {},
     "output_type": "execute_result"
    }
   ],
   "source": [
    "df = pd.DataFrame({\"language\":languages,\n",
    "                       \"number_of_articles\":articles})\n",
    "df"
   ]
  }
 ],
 "metadata": {
  "kernelspec": {
   "display_name": "Python 3 (ipykernel)",
   "language": "python",
   "name": "python3"
  },
  "language_info": {
   "codemirror_mode": {
    "name": "ipython",
    "version": 3
   },
   "file_extension": ".py",
   "mimetype": "text/x-python",
   "name": "python",
   "nbconvert_exporter": "python",
   "pygments_lexer": "ipython3",
   "version": "3.11.5"
  }
 },
 "nbformat": 4,
 "nbformat_minor": 5
}

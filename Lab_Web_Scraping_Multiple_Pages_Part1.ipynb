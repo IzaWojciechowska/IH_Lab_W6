{
 "cells": [
  {
   "cell_type": "markdown",
   "id": "6f711ccd",
   "metadata": {},
   "source": [
    "# Lab | Web Scraping Multiple Pages"
   ]
  },
  {
   "cell_type": "code",
   "execution_count": 1,
   "id": "4dca872f",
   "metadata": {},
   "outputs": [],
   "source": [
    "from time import sleep\n",
    "from random import randint\n",
    "import requests\n",
    "from bs4 import BeautifulSoup\n",
    "import pandas as pd"
   ]
  },
  {
   "cell_type": "markdown",
   "id": "3a23e6b8",
   "metadata": {},
   "source": [
    "# Part 1"
   ]
  },
  {
   "cell_type": "code",
   "execution_count": 2,
   "id": "beb34ec8",
   "metadata": {},
   "outputs": [
    {
     "data": {
      "text/plain": [
       "200"
      ]
     },
     "execution_count": 2,
     "metadata": {},
     "output_type": "execute_result"
    }
   ],
   "source": [
    "url = \"https://open.spotify.com/playlist/1EVE9kOZ2i4171hNdvWVhU\"\n",
    "\n",
    "response = requests.get(url)\n",
    "response.status_code"
   ]
  },
  {
   "cell_type": "code",
   "execution_count": 4,
   "id": "da7b45d3",
   "metadata": {},
   "outputs": [],
   "source": [
    "soup = BeautifulSoup(response.content, \"html.parser\")\n",
    "#print(soup.prettify())"
   ]
  },
  {
   "cell_type": "code",
   "execution_count": 18,
   "id": "b788d3b7",
   "metadata": {},
   "outputs": [
    {
     "data": {
      "text/html": [
       "<div>\n",
       "<style scoped>\n",
       "    .dataframe tbody tr th:only-of-type {\n",
       "        vertical-align: middle;\n",
       "    }\n",
       "\n",
       "    .dataframe tbody tr th {\n",
       "        vertical-align: top;\n",
       "    }\n",
       "\n",
       "    .dataframe thead th {\n",
       "        text-align: right;\n",
       "    }\n",
       "</style>\n",
       "<table border=\"1\" class=\"dataframe\">\n",
       "  <thead>\n",
       "    <tr style=\"text-align: right;\">\n",
       "      <th></th>\n",
       "      <th>song_title</th>\n",
       "      <th>artist</th>\n",
       "    </tr>\n",
       "  </thead>\n",
       "  <tbody>\n",
       "    <tr>\n",
       "      <th>0</th>\n",
       "      <td>Flowers</td>\n",
       "      <td>Miley Cyrus</td>\n",
       "    </tr>\n",
       "    <tr>\n",
       "      <th>1</th>\n",
       "      <td>Boy's a liar Pt. 2</td>\n",
       "      <td>PinkPantheress</td>\n",
       "    </tr>\n",
       "    <tr>\n",
       "      <th>2</th>\n",
       "      <td>Miss You</td>\n",
       "      <td>Oliver Tree</td>\n",
       "    </tr>\n",
       "    <tr>\n",
       "      <th>3</th>\n",
       "      <td>Seven (feat. Latto) (Explicit Ver.)</td>\n",
       "      <td>Jung Kook</td>\n",
       "    </tr>\n",
       "    <tr>\n",
       "      <th>4</th>\n",
       "      <td>Daylight</td>\n",
       "      <td>David Kushner</td>\n",
       "    </tr>\n",
       "    <tr>\n",
       "      <th>...</th>\n",
       "      <td>...</td>\n",
       "      <td>...</td>\n",
       "    </tr>\n",
       "    <tr>\n",
       "      <th>85</th>\n",
       "      <td>Eyes Closed</td>\n",
       "      <td>Ed Sheeran</td>\n",
       "    </tr>\n",
       "    <tr>\n",
       "      <th>86</th>\n",
       "      <td>Don't You Worry</td>\n",
       "      <td>Black Eyed Peas</td>\n",
       "    </tr>\n",
       "    <tr>\n",
       "      <th>87</th>\n",
       "      <td>Days Of Summer</td>\n",
       "      <td>Smiley</td>\n",
       "    </tr>\n",
       "    <tr>\n",
       "      <th>88</th>\n",
       "      <td>Past Lives</td>\n",
       "      <td>Lee Isaacs</td>\n",
       "    </tr>\n",
       "    <tr>\n",
       "      <th>89</th>\n",
       "      <td>I Like You (A Happier Song) (with Doja Cat)</td>\n",
       "      <td>Post Malone</td>\n",
       "    </tr>\n",
       "  </tbody>\n",
       "</table>\n",
       "<p>90 rows × 2 columns</p>\n",
       "</div>"
      ],
      "text/plain": [
       "                                     song_title           artist\n",
       "0                                       Flowers      Miley Cyrus\n",
       "1                            Boy's a liar Pt. 2   PinkPantheress\n",
       "2                                      Miss You      Oliver Tree\n",
       "3           Seven (feat. Latto) (Explicit Ver.)        Jung Kook\n",
       "4                                      Daylight    David Kushner\n",
       "..                                          ...              ...\n",
       "85                                  Eyes Closed       Ed Sheeran\n",
       "86                              Don't You Worry  Black Eyed Peas\n",
       "87                               Days Of Summer           Smiley\n",
       "88                                   Past Lives       Lee Isaacs\n",
       "89  I Like You (A Happier Song) (with Doja Cat)      Post Malone\n",
       "\n",
       "[90 rows x 2 columns]"
      ]
     },
     "metadata": {},
     "output_type": "display_data"
    }
   ],
   "source": [
    "titles = []\n",
    "artists = []\n",
    "\n",
    "# iterating over each page of results\n",
    "for page_num in range(1, 4):  # 4 is the number of pages to scrape\n",
    "# (pagination) in the case of Spotify, when you browse a playlist or album, there is a certain number of songs that may not \n",
    "# fit all on one page. So, the data is divided into pages to allow users to gradually browse through it\n",
    "\n",
    "    # waiting to avoid too rapid requests to the server\n",
    "    sleep(randint(1, 3))\n",
    "    \n",
    "    url = f\"https://open.spotify.com/playlist/1EVE9kOZ2i4171hNdvWVhU?page={page_num}\"\n",
    "\n",
    "    response = requests.get(url)\n",
    "    soup = BeautifulSoup(response.content, \"html.parser\")\n",
    "\n",
    "    # getting the links to the songs on this page\n",
    "    song_urls = [\n",
    "        tag[\"content\"] \n",
    "        for tag in soup.find_all(\"meta\", {\"name\": \"music:song\"})\n",
    "    ]\n",
    "\n",
    "    # iterating over each link and get title and artist (hier artist is still a next link)\n",
    "    for song_url in song_urls:\n",
    "        sleep(randint(1, 3))\n",
    "        \n",
    "        # getting title and artist for each link\n",
    "        response_song = requests.get(song_url)\n",
    "        soup_song = BeautifulSoup(response_song.content, \"html.parser\")\n",
    "        \n",
    "        # finding title and artist\n",
    "        title = soup_song.find(\"meta\", {\"property\": \"og:title\"})[\"content\"]\n",
    "        artist_url = soup_song.find(\"meta\", {\"name\": \"music:musician\"})[\"content\"]\n",
    "        \n",
    "        # getting artist name from link\n",
    "        response_artist = requests.get(artist_url)\n",
    "        soup_artist = BeautifulSoup(response_artist.content, \"html.parser\")\n",
    "        artist = soup_artist.find(\"meta\", {\"property\": \"og:title\"})[\"content\"]\n",
    "        \n",
    "        # adding to lists\n",
    "        titles.append(title)\n",
    "        artists.append(artist)\n",
    "\n",
    "        \n",
    "df = pd.DataFrame({\"song_title\": titles, \"artist\": artists})\n",
    "\n",
    "# saving to a CSV file\n",
    "#df.to_csv(\"spotify_songs.csv\", index=False)\n",
    "\n",
    "display(df)"
   ]
  }
 ],
 "metadata": {
  "kernelspec": {
   "display_name": "Python 3 (ipykernel)",
   "language": "python",
   "name": "python3"
  },
  "language_info": {
   "codemirror_mode": {
    "name": "ipython",
    "version": 3
   },
   "file_extension": ".py",
   "mimetype": "text/x-python",
   "name": "python",
   "nbconvert_exporter": "python",
   "pygments_lexer": "ipython3",
   "version": "3.11.5"
  }
 },
 "nbformat": 4,
 "nbformat_minor": 5
}
